{
 "cells": [
  {
   "cell_type": "markdown",
   "metadata": {
    "id": "Gkkd7kgGT8PC"
   },
   "source": [
    "# Проект для «Викишоп»"
   ]
  },
  {
   "cell_type": "markdown",
   "metadata": {
    "id": "4gFet5_IT-ZE"
   },
   "source": [
    "Интернет-магазин «Викишоп» запускает новый сервис. Теперь пользователи могут редактировать и дополнять описания товаров, как в вики-сообществах. То есть клиенты предлагают свои правки и комментируют изменения других. Магазину нужен инструмент, который будет искать токсичные комментарии и отправлять их на модерацию. \n",
    "\n",
    "Обучите модель классифицировать комментарии на позитивные и негативные. В вашем распоряжении набор данных с разметкой о токсичности правок.\n",
    "\n",
    "Постройте модель со значением метрики качества *F1* не меньше 0.75. \n",
    "\n",
    "**Инструкция по выполнению проекта**\n",
    "\n",
    "1. Загрузите и подготовьте данные.\n",
    "2. Обучите разные модели. \n",
    "3. Сделайте выводы.\n",
    "\n",
    "Для выполнения проекта применять *BERT* необязательно, но вы можете попробовать.\n",
    "\n",
    "**Описание данных**\n",
    "\n",
    "Данные находятся в файле `toxic_comments.csv`. Столбец *text* в нём содержит текст комментария, а *toxic* — целевой признак."
   ]
  },
  {
   "cell_type": "markdown",
   "metadata": {
    "id": "AXyXzc6jUO7X"
   },
   "source": [
    "## Подготовка"
   ]
  },
  {
   "cell_type": "markdown",
   "metadata": {
    "id": "FEukhLF9UP_k"
   },
   "source": [
    "Импортиурем необходимые нам библиотеки"
   ]
  },
  {
   "cell_type": "code",
   "execution_count": 1,
   "metadata": {},
   "outputs": [],
   "source": [
    "import pandas as pd\n",
    "import numpy as np\n",
    "import time\n",
    "from sklearn.feature_extraction.text import TfidfVectorizer\n",
    "import nltk\n",
    "from nltk.corpus import stopwords as nltk_stopwords\n",
    "\n",
    "\n",
    "import torch\n",
    "import transformers\n",
    "import spacy\n",
    "\n",
    "from pymystem3 import Mystem\n",
    "m = Mystem() \n",
    "import re \n",
    "from sklearn.feature_extraction.text import CountVectorizer \n",
    "import matplotlib.pyplot as plt\n",
    "import seaborn as sns\n",
    "sns.set(style=\"whitegrid\")\n",
    "\n",
    "import warnings\n",
    "warnings.filterwarnings('ignore')\n",
    "from sklearn.pipeline import Pipeline\n",
    "\n",
    "from lightgbm import LGBMClassifier\n",
    "from catboost import CatBoostClassifier\n",
    "from sklearn.tree import DecisionTreeClassifier\n",
    "from sklearn.ensemble import RandomForestClassifier\n",
    "from sklearn.linear_model import LogisticRegression\n",
    "from sklearn.model_selection import train_test_split\n",
    "from sklearn.dummy import DummyClassifier\n",
    "from sklearn.preprocessing import StandardScaler \n",
    "from sklearn.model_selection import GridSearchCV\n",
    "\n",
    "from sklearn.metrics import accuracy_score\n",
    "from sklearn.metrics import confusion_matrix\n",
    "from sklearn.metrics import f1_score\n",
    "from sklearn.metrics import precision_score, recall_score\n",
    "from sklearn.utils import shuffle"
   ]
  },
  {
   "cell_type": "markdown",
   "metadata": {
    "id": "iRsc2kLqUbnH"
   },
   "source": [
    "Прочитаем файл"
   ]
  },
  {
   "cell_type": "code",
   "execution_count": 2,
   "metadata": {
    "id": "nTni-LbOLOzR"
   },
   "outputs": [],
   "source": [
    "data = pd.read_csv('/datasets/toxic_comments.csv')\n",
    "#data = pd.read_csv('https://code.s3.yandex.net/datasets/toxic_comments.csv')"
   ]
  },
  {
   "cell_type": "markdown",
   "metadata": {},
   "source": [
    "Табличка для записи метрик"
   ]
  },
  {
   "cell_type": "code",
   "execution_count": 3,
   "metadata": {},
   "outputs": [],
   "source": [
    "d = {'F1 обучения': [], 'F1 предсказания':[]}   \n",
    "          \n",
    "summary_table = pd.DataFrame(data=d)\n",
    "def write_summary_table (col, row, f):\n",
    "    if row == 0:\n",
    "        row = 'F1 обучения'\n",
    "    if row == 1:\n",
    "        row = 'F1 предсказания'    \n",
    "    summary_table.loc[col, row] = f"
   ]
  },
  {
   "cell_type": "markdown",
   "metadata": {},
   "source": [
    "Запишем функцию, оставляющую только буквы"
   ]
  },
  {
   "cell_type": "code",
   "execution_count": 4,
   "metadata": {},
   "outputs": [],
   "source": [
    "def clear_text(text):\n",
    "    clear = re.sub(r'[^a-zA-Z]', ' ', text)        \n",
    "    clear = clear.split()\n",
    "    clear_text = \" \".join(clear)\n",
    "    return clear_text"
   ]
  },
  {
   "cell_type": "markdown",
   "metadata": {
    "id": "xW71iD7fUfJO"
   },
   "source": []
  },
  {
   "cell_type": "markdown",
   "metadata": {
    "id": "fozP1U0uUg_b"
   },
   "source": [
    " Напишем функцию лемматизации текста"
   ]
  },
  {
   "cell_type": "code",
   "execution_count": 5,
   "metadata": {},
   "outputs": [],
   "source": [
    "nlp = spacy.load('en_core_web_sm')\n",
    "\n",
    "def lemmatize_spacy(sentence):    \n",
    "    doc = nlp(sentence)\n",
    "    lemm_text = \" \".join([token.lemma_ for token in doc])\n",
    "    return lemm_text"
   ]
  },
  {
   "cell_type": "code",
   "execution_count": 6,
   "metadata": {},
   "outputs": [],
   "source": [
    "data['clear_text'] = data['text'].apply(lambda x: clear_text(x))"
   ]
  },
  {
   "cell_type": "code",
   "execution_count": 7,
   "metadata": {},
   "outputs": [
    {
     "name": "stdout",
     "output_type": "stream",
     "text": [
      "1766.195801973343\n",
      "CPU times: user 28min 49s, sys: 20.7 s, total: 29min 10s\n",
      "Wall time: 29min 26s\n"
     ]
    }
   ],
   "source": [
    "%%time\n",
    "start = time.time()\n",
    "data['lemm_text'] = data['clear_text'].apply(lambda x: lemmatize_spacy(x))\n",
    "end = time.time()\n",
    "print(end-start)"
   ]
  },
  {
   "cell_type": "markdown",
   "metadata": {},
   "source": [
    "Итоги записываем в файл"
   ]
  },
  {
   "cell_type": "code",
   "execution_count": 8,
   "metadata": {},
   "outputs": [],
   "source": [
    "data.to_csv('lemm_text.csv', index=False)"
   ]
  },
  {
   "cell_type": "code",
   "execution_count": 9,
   "metadata": {},
   "outputs": [
    {
     "name": "stdout",
     "output_type": "stream",
     "text": [
      "Исходный текст: Explanation\n",
      "Why the edits made under my username Hardcore Metallica Fan were reverted? They weren't vandalisms, just closure on some GAs after I voted at New York Dolls FAC. And please don't remove the template from the talk page since I'm retired now.89.205.38.27\n",
      "Лемматизированный текст: explanation why the edit make under -PRON- username Hardcore Metallica Fan be revert -PRON- weren t vandalism just closure on some gas after -PRON- vote at New York Dolls FAC and please don t remove the template from the talk page since -PRON- m retire now\n"
     ]
    }
   ],
   "source": [
    "print(\"Исходный текст:\", data['text'][0])\n",
    "print(\"Лемматизированный текст:\", data['lemm_text'][0])"
   ]
  },
  {
   "cell_type": "markdown",
   "metadata": {
    "id": "x1x0IYU-UmEI"
   },
   "source": []
  },
  {
   "cell_type": "markdown",
   "metadata": {
    "id": "UBbDEVn1Unb-"
   },
   "source": [
    "Разобъём выборку на фичи и таргеты"
   ]
  },
  {
   "cell_type": "code",
   "execution_count": 10,
   "metadata": {
    "id": "vaHOA-V0NKIF"
   },
   "outputs": [],
   "source": [
    "features = data['lemm_text']\n",
    "target = data['toxic']\n",
    "features_train,features_test,target_train,target_test = train_test_split(features,target,test_size = 0.25,random_state = 12345,stratify = target)\n"
   ]
  },
  {
   "cell_type": "markdown",
   "metadata": {},
   "source": [
    "Рассмотрим распределение признака"
   ]
  },
  {
   "cell_type": "code",
   "execution_count": 11,
   "metadata": {},
   "outputs": [
    {
     "name": "stdout",
     "output_type": "stream",
     "text": [
      "0    143346\n",
      "1     16225\n",
      "Name: toxic, dtype: int64\n"
     ]
    },
    {
     "data": {
      "text/plain": [
       "<matplotlib.axes._subplots.AxesSubplot at 0x7f953b1eb3d0>"
      ]
     },
     "execution_count": 11,
     "metadata": {},
     "output_type": "execute_result"
    },
    {
     "data": {
      "image/png": "[encoded data removed]",
      "text/plain": [
       "<Figure size 432x288 with 1 Axes>"
      ]
     },
     "metadata": {},
     "output_type": "display_data"
    }
   ],
   "source": [
    "class_frequency = data['toxic'].value_counts()\n",
    "print(class_frequency)\n",
    "class_frequency.plot(kind='bar') "
   ]
  },
  {
   "cell_type": "markdown",
   "metadata": {},
   "source": [
    "Признак не сбалансирован, что может помешать обучению модели. Количество позитивных комментариев в девять раз больше негативных.\n",
    "\n"
   ]
  },
  {
   "cell_type": "markdown",
   "metadata": {},
   "source": [
    "# TF-IDF"
   ]
  },
  {
   "cell_type": "markdown",
   "metadata": {},
   "source": [
    "Для обучения модели преобразуем тексты в векторную форму.\n",
    "Столбец признаков будет являться корпусом слов, который мы трансформируем в матрицу и посчитаем величину TF-IDF.\n",
    "\n",
    "Создадим переменные для признака и целевого признака."
   ]
  },
  {
   "cell_type": "code",
   "execution_count": 12,
   "metadata": {},
   "outputs": [
    {
     "name": "stdout",
     "output_type": "stream",
     "text": [
      "<class 'pandas.core.frame.DataFrame'>\n",
      "Int64Index: 159571 entries, 0 to 159570\n",
      "Data columns (total 4 columns):\n",
      "text          159571 non-null object\n",
      "toxic         159571 non-null int64\n",
      "clear_text    159571 non-null object\n",
      "lemm_text     159571 non-null object\n",
      "dtypes: int64(1), object(3)\n",
      "memory usage: 6.1+ MB\n"
     ]
    }
   ],
   "source": [
    "data = data.dropna()\n",
    "data.info()"
   ]
  },
  {
   "cell_type": "code",
   "execution_count": 13,
   "metadata": {},
   "outputs": [],
   "source": [
    "features = data['lemm_text']\n",
    "target = data['toxic']"
   ]
  },
  {
   "cell_type": "markdown",
   "metadata": {},
   "source": [
    "Разобьем датасет на обучающую и тестовую выборку в соотношении 80-20"
   ]
  },
  {
   "cell_type": "code",
   "execution_count": 14,
   "metadata": {},
   "outputs": [
    {
     "name": "stdout",
     "output_type": "stream",
     "text": [
      "Размер обучающей выборки: 127656\n",
      "Размер тестовой выборки: 31915\n"
     ]
    }
   ],
   "source": [
    "train_corpus, test_corpus, target_train, target_test = train_test_split(features,target,test_size=0.2)\n",
    "\n",
    "print('Размер обучающей выборки:', len(train_corpus))\n",
    "print('Размер тестовой выборки:', len(test_corpus))"
   ]
  },
  {
   "cell_type": "markdown",
   "metadata": {},
   "source": [
    "Создадим счётчик стоп-слов (матерных)"
   ]
  },
  {
   "cell_type": "code",
   "execution_count": 15,
   "metadata": {},
   "outputs": [],
   "source": [
    "stopwords = set(nltk_stopwords.words('english'))"
   ]
  },
  {
   "cell_type": "markdown",
   "metadata": {},
   "source": [
    "Создадим счетчик tf_idf, который выделит из корпуса уникальные слова и посчитает количество их вхождений в каждом тексте корпуса."
   ]
  },
  {
   "cell_type": "code",
   "execution_count": 16,
   "metadata": {},
   "outputs": [],
   "source": [
    "tf_idf = TfidfVectorizer(stop_words=stopwords, lowercase=True, min_df=0.0001)\n",
    "features_train = tf_idf.fit_transform(train_corpus)\n",
    "features_test = tf_idf.transform(test_corpus)"
   ]
  },
  {
   "cell_type": "code",
   "execution_count": 17,
   "metadata": {},
   "outputs": [
    {
     "data": {
      "text/plain": [
       "(127656, 13359)"
      ]
     },
     "execution_count": 17,
     "metadata": {},
     "output_type": "execute_result"
    }
   ],
   "source": [
    "features_train.shape"
   ]
  },
  {
   "cell_type": "code",
   "execution_count": 18,
   "metadata": {},
   "outputs": [
    {
     "data": {
      "text/plain": [
       "(127656,)"
      ]
     },
     "execution_count": 18,
     "metadata": {},
     "output_type": "execute_result"
    }
   ],
   "source": [
    "target_train.shape"
   ]
  },
  {
   "cell_type": "markdown",
   "metadata": {
    "id": "Dd9oEcOZWP6w"
   },
   "source": [
    "# Обучение моделей"
   ]
  },
  {
   "cell_type": "markdown",
   "metadata": {
    "id": "4GwVakC-YSJ7"
   },
   "source": [
    "Рассмотрим результат работы модели без балансировки классов. Для эксперимента возьмем логистическую регрессию."
   ]
  },
  {
   "cell_type": "code",
   "execution_count": 19,
   "metadata": {
    "id": "gIJC_yvYYLm-"
   },
   "outputs": [
    {
     "name": "stdout",
     "output_type": "stream",
     "text": [
      "F1: 0.7407829722538958\n"
     ]
    }
   ],
   "source": [
    "model = LogisticRegression()\n",
    "parameters = {'solver': ['liblinear']}\n",
    "\n",
    "grid = GridSearchCV(model, parameters, cv = None, scoring = 'f1')\n",
    "grid.fit(features_train, target_train)\n",
    "predicted_test = grid.predict(features_test)\n",
    "print(\"F1:\", f1_score(target_test, predicted_test))"
   ]
  },
  {
   "cell_type": "markdown",
   "metadata": {
    "id": "r0CgtltkYWjN"
   },
   "source": [
    "Метрика f1 достигла 75, что в принципе является минимальным допустимым для нас результатом."
   ]
  },
  {
   "cell_type": "markdown",
   "metadata": {
    "id": "K1FklIcoYY3A"
   },
   "source": [
    "Попробуем увеличить качество модели с помощью взвешивания классов"
   ]
  },
  {
   "cell_type": "code",
   "execution_count": 20,
   "metadata": {
    "id": "eBy302ZhY9bl"
   },
   "outputs": [
    {
     "name": "stdout",
     "output_type": "stream",
     "text": [
      "F1: 0.7334772052872943\n"
     ]
    }
   ],
   "source": [
    "model = LogisticRegression()\n",
    "parameters = {'solver': ['liblinear'], 'class_weight': ['balanced']}\n",
    "grid = GridSearchCV(model, parameters, cv = None, scoring = 'f1')\n",
    "grid.fit(features_train, target_train)\n",
    "predicted_test = grid.predict(features_test)\n",
    "print(\"F1:\", f1_score(target_test, predicted_test))"
   ]
  },
  {
   "cell_type": "markdown",
   "metadata": {},
   "source": [
    "Попробуем уменьшить число позитивных комментариев. Можно было бы увеличить число отрицательных, но датасет слишком разрастется.\n",
    "Если приравнять число позитивных комментариев к негативным, мы потеряем большую часть данных.\n",
    "Попробуем отрезать только часть позитивных, например, оставим одну треть из них."
   ]
  },
  {
   "cell_type": "code",
   "execution_count": 21,
   "metadata": {},
   "outputs": [],
   "source": [
    "def downsample(features, target, fraction):\n",
    "    features_zeros = features[target == 0]\n",
    "    features_ones = features[target == 1]\n",
    "    target_zeros = target[target == 0]\n",
    "    target_ones = target[target == 1]\n",
    "\n",
    "    features_downsampled = pd.concat(\n",
    "        [features_zeros.sample(frac=fraction)] + [features_ones])\n",
    "    \n",
    "    target_downsampled = pd.concat(\n",
    "        [target_zeros.sample(frac=fraction)] + [target_ones])\n",
    "    \n",
    "    features_downsampled, target_downsampled = shuffle(\n",
    "        features_downsampled, target_downsampled)\n",
    "    \n",
    "    return features_downsampled, target_downsampled"
   ]
  },
  {
   "cell_type": "code",
   "execution_count": 22,
   "metadata": {},
   "outputs": [],
   "source": [
    "features_downsampled, target_downsampled = downsample(train_corpus, target_train, 0.3)"
   ]
  },
  {
   "cell_type": "code",
   "execution_count": 23,
   "metadata": {},
   "outputs": [],
   "source": [
    "tf_idf = TfidfVectorizer(stop_words=stopwords, lowercase=True, min_df=0.0001)\n",
    "features_downsampled = tf_idf.fit_transform(features_downsampled)\n",
    "features_test = tf_idf.transform(test_corpus)"
   ]
  },
  {
   "cell_type": "code",
   "execution_count": 24,
   "metadata": {},
   "outputs": [
    {
     "name": "stdout",
     "output_type": "stream",
     "text": [
      "0    34381\n",
      "1    13052\n",
      "Name: toxic, dtype: int64\n"
     ]
    },
    {
     "data": {
      "text/plain": [
       "<matplotlib.axes._subplots.AxesSubplot at 0x7f95283532d0>"
      ]
     },
     "execution_count": 24,
     "metadata": {},
     "output_type": "execute_result"
    },
    {
     "data": {
      "image/png": "[encoded data removed]",
      "text/plain": [
       "<Figure size 432x288 with 1 Axes>"
      ]
     },
     "metadata": {},
     "output_type": "display_data"
    }
   ],
   "source": [
    "class_frequency = target_downsampled.value_counts(normalize=False)\n",
    "print(class_frequency)\n",
    "class_frequency.plot(kind='bar') "
   ]
  },
  {
   "cell_type": "markdown",
   "metadata": {},
   "source": [
    "Далее обучим модели на признаках features_downsampled"
   ]
  },
  {
   "cell_type": "code",
   "execution_count": 25,
   "metadata": {},
   "outputs": [
    {
     "name": "stdout",
     "output_type": "stream",
     "text": [
      "0.8171241294730313\n",
      "{'solver': 'liblinear'}\n",
      "LogisticRegression(C=1.0, class_weight=None, dual=False, fit_intercept=True,\n",
      "                   intercept_scaling=1, l1_ratio=None, max_iter=100,\n",
      "                   multi_class='warn', n_jobs=None, penalty='l2',\n",
      "                   random_state=None, solver='liblinear', tol=0.0001, verbose=0,\n",
      "                   warm_start=False)\n"
     ]
    }
   ],
   "source": [
    "model = LogisticRegression()\n",
    "parameters = {'solver': ['liblinear']}\n",
    "grid = GridSearchCV(model, parameters, cv = None, scoring = 'f1')\n",
    "grid.fit(features_downsampled, target_downsampled)\n",
    "print(grid.best_score_)\n",
    "print(grid.best_params_)\n",
    "print(grid.best_estimator_)\n",
    "\n",
    "write_summary_table('LogisticRegression', 0, grid.best_score_)"
   ]
  },
  {
   "cell_type": "code",
   "execution_count": 26,
   "metadata": {},
   "outputs": [
    {
     "name": "stdout",
     "output_type": "stream",
     "text": [
      "0.7650700553926361\n"
     ]
    }
   ],
   "source": [
    "f1 = f1_score(grid.predict(features_test),target_test)\n",
    "print(f1)\n",
    "write_summary_table('LogisticRegression', 1, f1)"
   ]
  },
  {
   "cell_type": "markdown",
   "metadata": {},
   "source": [
    "Вывод : получили значение метрики f1 равное 0.77, меняя большое количество гиперпараметров."
   ]
  },
  {
   "cell_type": "markdown",
   "metadata": {},
   "source": [
    "# LGBMClassifier"
   ]
  },
  {
   "cell_type": "code",
   "execution_count": 27,
   "metadata": {},
   "outputs": [],
   "source": [
    "model = LGBMClassifier()\n",
    "parameters = {\n",
    "   # 'objective':['binary'],\n",
    "    #'num_leaves': [31]\n",
    "    'n_estimators': [100]\n",
    "     \n",
    "}"
   ]
  },
  {
   "cell_type": "code",
   "execution_count": 28,
   "metadata": {},
   "outputs": [
    {
     "name": "stdout",
     "output_type": "stream",
     "text": [
      "0.8257412533828157\n",
      "{'n_estimators': 100}\n",
      "LGBMClassifier(boosting_type='gbdt', class_weight=None, colsample_bytree=1.0,\n",
      "               importance_type='split', learning_rate=0.1, max_depth=-1,\n",
      "               min_child_samples=20, min_child_weight=0.001, min_split_gain=0.0,\n",
      "               n_estimators=100, n_jobs=-1, num_leaves=31, objective=None,\n",
      "               random_state=None, reg_alpha=0.0, reg_lambda=0.0, silent=True,\n",
      "               subsample=1.0, subsample_for_bin=200000, subsample_freq=0)\n"
     ]
    }
   ],
   "source": [
    "grid = GridSearchCV(model, parameters, cv = None, scoring = 'f1')\n",
    "grid.fit(features_downsampled, target_downsampled)\n",
    "print(grid.best_score_)\n",
    "print(grid.best_params_)\n",
    "print(grid.best_estimator_)\n",
    "\n",
    "write_summary_table('LGBM', 0, grid.best_score_)"
   ]
  },
  {
   "cell_type": "code",
   "execution_count": 29,
   "metadata": {},
   "outputs": [
    {
     "name": "stdout",
     "output_type": "stream",
     "text": [
      "0.7626498002663116\n"
     ]
    }
   ],
   "source": [
    "f1 = f1_score(grid.predict(features_test),target_test)\n",
    "print(f1)\n",
    "write_summary_table('LGBM', 1, f1)"
   ]
  },
  {
   "cell_type": "markdown",
   "metadata": {},
   "source": [
    "Вывод : получили значение метрики f1 равное 0.77, чуть ниже, чем у модели Логистической регрессии."
   ]
  },
  {
   "cell_type": "markdown",
   "metadata": {},
   "source": [
    "# CatBoost"
   ]
  },
  {
   "cell_type": "code",
   "execution_count": 30,
   "metadata": {},
   "outputs": [],
   "source": [
    "model = CatBoostClassifier()\n",
    "\n",
    "parameters = {    \n",
    "   # 'learning_rate': [0.1],\n",
    "    'iterations': [100], #[40, 60, 100, 200, 500]\n",
    "    #depth': [10],  #[5, 7, 10]    \n",
    "    'verbose': [200]}"
   ]
  },
  {
   "cell_type": "code",
   "execution_count": 31,
   "metadata": {},
   "outputs": [
    {
     "name": "stdout",
     "output_type": "stream",
     "text": [
      "Learning rate set to 0.346431\n",
      "0:\tlearn: 0.5464513\ttotal: 1.15s\tremaining: 1m 54s\n",
      "99:\tlearn: 0.2047590\ttotal: 1m 29s\tremaining: 0us\n",
      "Learning rate set to 0.346435\n",
      "0:\tlearn: 0.5463946\ttotal: 960ms\tremaining: 1m 35s\n",
      "99:\tlearn: 0.2027913\ttotal: 1m 32s\tremaining: 0us\n",
      "Learning rate set to 0.346438\n",
      "0:\tlearn: 0.5413098\ttotal: 955ms\tremaining: 1m 34s\n",
      "99:\tlearn: 0.1995172\ttotal: 1m 27s\tremaining: 0us\n",
      "Learning rate set to 0.388557\n",
      "0:\tlearn: 0.5261636\ttotal: 1.72s\tremaining: 2m 50s\n",
      "99:\tlearn: 0.2006673\ttotal: 1m 55s\tremaining: 0us\n",
      "0.8154707159700482\n",
      "{'iterations': 100, 'verbose': 200}\n",
      "<catboost.core.CatBoostClassifier object at 0x7f952834db10>\n"
     ]
    }
   ],
   "source": [
    "grid = GridSearchCV(model, parameters, cv = None, scoring = 'f1')\n",
    "grid.fit(features_downsampled, target_downsampled)\n",
    "print(grid.best_score_)\n",
    "print(grid.best_params_)\n",
    "print(grid.best_estimator_)\n",
    "write_summary_table('CatBoost', 0, grid.best_score_)"
   ]
  },
  {
   "cell_type": "code",
   "execution_count": 32,
   "metadata": {},
   "outputs": [
    {
     "name": "stdout",
     "output_type": "stream",
     "text": [
      "0.761745527503762\n"
     ]
    }
   ],
   "source": [
    "f1 = f1_score(grid.predict(features_test),target_test)\n",
    "print(f1)\n",
    "write_summary_table('CatBoost', 1, f1)"
   ]
  },
  {
   "cell_type": "markdown",
   "metadata": {},
   "source": [
    "Вывод : получили самое большое значение метрики f1"
   ]
  },
  {
   "cell_type": "markdown",
   "metadata": {},
   "source": [
    "# DecisionTreeClassifier"
   ]
  },
  {
   "cell_type": "code",
   "execution_count": 33,
   "metadata": {},
   "outputs": [],
   "source": [
    "model = DecisionTreeClassifier()\n",
    "\n",
    "parameters = {'max_depth': range(4,16,2)}"
   ]
  },
  {
   "cell_type": "code",
   "execution_count": 34,
   "metadata": {},
   "outputs": [
    {
     "name": "stdout",
     "output_type": "stream",
     "text": [
      "0.6656519119078194\n",
      "{'max_depth': 14}\n",
      "DecisionTreeClassifier(class_weight=None, criterion='gini', max_depth=14,\n",
      "                       max_features=None, max_leaf_nodes=None,\n",
      "                       min_impurity_decrease=0.0, min_impurity_split=None,\n",
      "                       min_samples_leaf=1, min_samples_split=2,\n",
      "                       min_weight_fraction_leaf=0.0, presort=False,\n",
      "                       random_state=None, splitter='best')\n"
     ]
    }
   ],
   "source": [
    "grid = GridSearchCV(model, parameters, cv = None, scoring = 'f1')\n",
    "grid.fit(features_downsampled, target_downsampled)\n",
    "print(grid.best_score_)\n",
    "print(grid.best_params_)\n",
    "print(grid.best_estimator_)\n",
    "write_summary_table('DecisionTreeClassifier', 0, grid.best_score_)"
   ]
  },
  {
   "cell_type": "code",
   "execution_count": 35,
   "metadata": {},
   "outputs": [
    {
     "name": "stdout",
     "output_type": "stream",
     "text": [
      "0.6268065729558504\n"
     ]
    }
   ],
   "source": [
    "f1 = f1_score(grid.predict(features_test),target_test)\n",
    "print(f1)\n",
    "write_summary_table('DecisionTreeClassifier', 1, f1)"
   ]
  },
  {
   "cell_type": "markdown",
   "metadata": {},
   "source": [
    "Вывод : в этой модели значения метрик f1 самые маленькие."
   ]
  },
  {
   "cell_type": "code",
   "execution_count": 36,
   "metadata": {},
   "outputs": [
    {
     "data": {
      "text/html": [
       "<div>\n",
       "<style scoped>\n",
       "    .dataframe tbody tr th:only-of-type {\n",
       "        vertical-align: middle;\n",
       "    }\n",
       "\n",
       "    .dataframe tbody tr th {\n",
       "        vertical-align: top;\n",
       "    }\n",
       "\n",
       "    .dataframe thead th {\n",
       "        text-align: right;\n",
       "    }\n",
       "</style>\n",
       "<table border=\"1\" class=\"dataframe\">\n",
       "  <thead>\n",
       "    <tr style=\"text-align: right;\">\n",
       "      <th></th>\n",
       "      <th>F1 обучения</th>\n",
       "      <th>F1 предсказания</th>\n",
       "    </tr>\n",
       "  </thead>\n",
       "  <tbody>\n",
       "    <tr>\n",
       "      <td>LogisticRegression</td>\n",
       "      <td>0.817124</td>\n",
       "      <td>0.765070</td>\n",
       "    </tr>\n",
       "    <tr>\n",
       "      <td>LGBM</td>\n",
       "      <td>0.825741</td>\n",
       "      <td>0.762650</td>\n",
       "    </tr>\n",
       "    <tr>\n",
       "      <td>CatBoost</td>\n",
       "      <td>0.815471</td>\n",
       "      <td>0.761746</td>\n",
       "    </tr>\n",
       "    <tr>\n",
       "      <td>DecisionTreeClassifier</td>\n",
       "      <td>0.665652</td>\n",
       "      <td>0.626807</td>\n",
       "    </tr>\n",
       "  </tbody>\n",
       "</table>\n",
       "</div>"
      ],
      "text/plain": [
       "                        F1 обучения  F1 предсказания\n",
       "LogisticRegression         0.817124         0.765070\n",
       "LGBM                       0.825741         0.762650\n",
       "CatBoost                   0.815471         0.761746\n",
       "DecisionTreeClassifier     0.665652         0.626807"
      ]
     },
     "execution_count": 36,
     "metadata": {},
     "output_type": "execute_result"
    }
   ],
   "source": [
    "summary_table"
   ]
  },
  {
   "cell_type": "markdown",
   "metadata": {
    "id": "5sQUfYvYYTbv"
   },
   "source": [
    "## Выводы"
   ]
  },
  {
   "cell_type": "markdown",
   "metadata": {
    "id": "eJ4G9dz6YT48"
   },
   "source": [
    "Мы лемматизировали текст, трансформировали текстовую колонку в матрицу и посчитали величину TF-IDF.\n",
    "Обучили модели классифицировать комментарии на позитивные и токсичные.\n",
    "Лучшие результаты показала модель логистической регрессии, для нее достаточным оказалось только очистить и лемматизировать исходные данные, чтобы получить метрику качества F1 выше 0,75\n",
    "На уменьшенной выборке хорошие метрики оказались у моделей классификации CatBoost (0,77) и LGBM (0,77)."
   ]
  },
  {
   "cell_type": "markdown",
   "metadata": {
    "id": "mkjnFPaJYUz5"
   },
   "source": [
    "## Чек-лист проверки"
   ]
  },
  {
   "cell_type": "markdown",
   "metadata": {
    "id": "FXpBOWcYYeom"
   },
   "source": [
    "- [x]  Jupyter Notebook открыт\n",
    "- [x]  Весь код выполняется без ошибок\n",
    "- [x]  Ячейки с кодом расположены в порядке исполнения\n",
    "- [x]  Выполнена загрузка и подготовка данных\n",
    "- [x]  Выполнено обучение моделей\n",
    "- [x]  Есть анализ скорости работы и качества моделей"
   ]
  }
 ],
 "metadata": {
  "ExecuteTimeLog": [
   {
    "duration": 1958,
    "start_time": "2021-10-12T08:19:26.799Z"
   },
   {
    "duration": -12,
    "start_time": "2021-10-12T08:19:28.771Z"
   },
   {
    "duration": -13,
    "start_time": "2021-10-12T08:19:28.773Z"
   },
   {
    "duration": -16,
    "start_time": "2021-10-12T08:19:28.777Z"
   },
   {
    "duration": -18,
    "start_time": "2021-10-12T08:19:28.779Z"
   },
   {
    "duration": -18,
    "start_time": "2021-10-12T08:19:28.780Z"
   },
   {
    "duration": -19,
    "start_time": "2021-10-12T08:19:28.782Z"
   },
   {
    "duration": -21,
    "start_time": "2021-10-12T08:19:28.785Z"
   },
   {
    "duration": -22,
    "start_time": "2021-10-12T08:19:28.787Z"
   },
   {
    "duration": -23,
    "start_time": "2021-10-12T08:19:28.789Z"
   },
   {
    "duration": 466768,
    "start_time": "2021-10-12T08:23:35.883Z"
   },
   {
    "duration": 227,
    "start_time": "2021-11-15T11:24:52.642Z"
   },
   {
    "duration": 70,
    "start_time": "2021-11-15T11:35:03.344Z"
   },
   {
    "duration": 5940,
    "start_time": "2021-11-15T11:36:33.897Z"
   },
   {
    "duration": 4917,
    "start_time": "2021-11-15T11:37:21.834Z"
   },
   {
    "duration": 5875,
    "start_time": "2021-11-15T11:37:51.170Z"
   },
   {
    "duration": 560,
    "start_time": "2021-11-15T11:37:57.046Z"
   },
   {
    "duration": 1061,
    "start_time": "2021-11-15T11:37:56.548Z"
   },
   {
    "duration": 1043,
    "start_time": "2021-11-15T11:37:56.567Z"
   },
   {
    "duration": 1036,
    "start_time": "2021-11-15T11:37:56.575Z"
   },
   {
    "duration": 991,
    "start_time": "2021-11-15T11:37:56.621Z"
   },
   {
    "duration": 972,
    "start_time": "2021-11-15T11:37:56.640Z"
   },
   {
    "duration": 966,
    "start_time": "2021-11-15T11:37:56.647Z"
   },
   {
    "duration": 952,
    "start_time": "2021-11-15T11:37:56.662Z"
   },
   {
    "duration": 946,
    "start_time": "2021-11-15T11:37:56.669Z"
   },
   {
    "duration": 894,
    "start_time": "2021-11-15T11:37:56.722Z"
   },
   {
    "duration": 889,
    "start_time": "2021-11-15T11:37:56.728Z"
   },
   {
    "duration": 871,
    "start_time": "2021-11-15T11:37:56.747Z"
   },
   {
    "duration": 846,
    "start_time": "2021-11-15T11:37:56.772Z"
   },
   {
    "duration": 841,
    "start_time": "2021-11-15T11:37:56.778Z"
   },
   {
    "duration": 814,
    "start_time": "2021-11-15T11:37:56.806Z"
   },
   {
    "duration": 811,
    "start_time": "2021-11-15T11:37:56.810Z"
   },
   {
    "duration": 801,
    "start_time": "2021-11-15T11:37:56.821Z"
   },
   {
    "duration": 796,
    "start_time": "2021-11-15T11:37:56.826Z"
   },
   {
    "duration": 790,
    "start_time": "2021-11-15T11:37:56.833Z"
   },
   {
    "duration": 786,
    "start_time": "2021-11-15T11:37:56.838Z"
   },
   {
    "duration": 776,
    "start_time": "2021-11-15T11:37:56.849Z"
   },
   {
    "duration": 724,
    "start_time": "2021-11-15T11:37:56.902Z"
   },
   {
    "duration": 707,
    "start_time": "2021-11-15T11:37:56.920Z"
   },
   {
    "duration": 691,
    "start_time": "2021-11-15T11:37:56.937Z"
   },
   {
    "duration": 682,
    "start_time": "2021-11-15T11:37:56.947Z"
   },
   {
    "duration": 668,
    "start_time": "2021-11-15T11:37:56.962Z"
   },
   {
    "duration": 658,
    "start_time": "2021-11-15T11:37:56.972Z"
   },
   {
    "duration": 656,
    "start_time": "2021-11-15T11:37:56.976Z"
   },
   {
    "duration": 649,
    "start_time": "2021-11-15T11:37:56.985Z"
   },
   {
    "duration": 645,
    "start_time": "2021-11-15T11:37:56.990Z"
   },
   {
    "duration": 641,
    "start_time": "2021-11-15T11:37:56.995Z"
   },
   {
    "duration": 638,
    "start_time": "2021-11-15T11:37:56.999Z"
   },
   {
    "duration": 635,
    "start_time": "2021-11-15T11:37:57.003Z"
   },
   {
    "duration": 631,
    "start_time": "2021-11-15T11:37:57.007Z"
   },
   {
    "duration": 628,
    "start_time": "2021-11-15T11:37:57.012Z"
   },
   {
    "duration": 624,
    "start_time": "2021-11-15T11:37:57.017Z"
   },
   {
    "duration": 620,
    "start_time": "2021-11-15T11:37:57.022Z"
   },
   {
    "duration": 616,
    "start_time": "2021-11-15T11:37:57.026Z"
   },
   {
    "duration": 6210,
    "start_time": "2021-11-15T11:39:05.736Z"
   },
   {
    "duration": 3,
    "start_time": "2021-11-15T11:39:11.948Z"
   },
   {
    "duration": 639,
    "start_time": "2021-11-15T11:39:11.953Z"
   },
   {
    "duration": 4,
    "start_time": "2021-11-15T11:39:12.594Z"
   },
   {
    "duration": 6,
    "start_time": "2021-11-15T11:39:12.600Z"
   },
   {
    "duration": 1206,
    "start_time": "2021-11-15T11:39:12.607Z"
   },
   {
    "duration": 554,
    "start_time": "2021-11-15T11:39:13.815Z"
   },
   {
    "duration": 1038,
    "start_time": "2021-11-15T11:39:13.333Z"
   },
   {
    "duration": 1033,
    "start_time": "2021-11-15T11:39:13.339Z"
   },
   {
    "duration": 1014,
    "start_time": "2021-11-15T11:39:13.359Z"
   },
   {
    "duration": 1010,
    "start_time": "2021-11-15T11:39:13.364Z"
   },
   {
    "duration": 1006,
    "start_time": "2021-11-15T11:39:13.369Z"
   },
   {
    "duration": 1002,
    "start_time": "2021-11-15T11:39:13.374Z"
   },
   {
    "duration": 986,
    "start_time": "2021-11-15T11:39:13.391Z"
   },
   {
    "duration": 975,
    "start_time": "2021-11-15T11:39:13.403Z"
   },
   {
    "duration": 968,
    "start_time": "2021-11-15T11:39:13.411Z"
   },
   {
    "duration": 959,
    "start_time": "2021-11-15T11:39:13.421Z"
   },
   {
    "duration": 953,
    "start_time": "2021-11-15T11:39:13.428Z"
   },
   {
    "duration": 949,
    "start_time": "2021-11-15T11:39:13.433Z"
   },
   {
    "duration": 944,
    "start_time": "2021-11-15T11:39:13.439Z"
   },
   {
    "duration": 940,
    "start_time": "2021-11-15T11:39:13.444Z"
   },
   {
    "duration": 935,
    "start_time": "2021-11-15T11:39:13.450Z"
   },
   {
    "duration": 931,
    "start_time": "2021-11-15T11:39:13.455Z"
   },
   {
    "duration": 926,
    "start_time": "2021-11-15T11:39:13.461Z"
   },
   {
    "duration": 918,
    "start_time": "2021-11-15T11:39:13.469Z"
   },
   {
    "duration": 912,
    "start_time": "2021-11-15T11:39:13.476Z"
   },
   {
    "duration": 908,
    "start_time": "2021-11-15T11:39:13.481Z"
   },
   {
    "duration": 904,
    "start_time": "2021-11-15T11:39:13.486Z"
   },
   {
    "duration": 900,
    "start_time": "2021-11-15T11:39:13.491Z"
   },
   {
    "duration": 896,
    "start_time": "2021-11-15T11:39:13.496Z"
   },
   {
    "duration": 892,
    "start_time": "2021-11-15T11:39:13.501Z"
   },
   {
    "duration": 887,
    "start_time": "2021-11-15T11:39:13.507Z"
   },
   {
    "duration": 884,
    "start_time": "2021-11-15T11:39:13.511Z"
   },
   {
    "duration": 879,
    "start_time": "2021-11-15T11:39:13.517Z"
   },
   {
    "duration": 866,
    "start_time": "2021-11-15T11:39:13.531Z"
   },
   {
    "duration": 860,
    "start_time": "2021-11-15T11:39:13.538Z"
   },
   {
    "duration": 856,
    "start_time": "2021-11-15T11:39:13.543Z"
   },
   {
    "duration": 851,
    "start_time": "2021-11-15T11:39:13.549Z"
   },
   {
    "duration": 848,
    "start_time": "2021-11-15T11:39:13.553Z"
   },
   {
    "duration": 5257,
    "start_time": "2021-11-15T11:40:47.595Z"
   },
   {
    "duration": 2,
    "start_time": "2021-11-15T11:40:52.854Z"
   },
   {
    "duration": 618,
    "start_time": "2021-11-15T11:40:52.861Z"
   },
   {
    "duration": 4,
    "start_time": "2021-11-15T11:40:53.481Z"
   },
   {
    "duration": 3,
    "start_time": "2021-11-15T11:40:53.492Z"
   },
   {
    "duration": 930,
    "start_time": "2021-11-15T11:40:53.497Z"
   },
   {
    "duration": 3677,
    "start_time": "2021-11-15T11:40:54.430Z"
   },
   {
    "duration": 1973777,
    "start_time": "2021-11-15T11:40:58.109Z"
   },
   {
    "duration": 6069,
    "start_time": "2021-11-15T12:13:51.891Z"
   },
   {
    "duration": 8,
    "start_time": "2021-11-15T12:13:57.961Z"
   },
   {
    "duration": 3908,
    "start_time": "2021-11-15T12:13:57.970Z"
   },
   {
    "duration": 1116,
    "start_time": "2021-11-15T12:14:00.764Z"
   },
   {
    "duration": 1112,
    "start_time": "2021-11-15T12:14:00.769Z"
   },
   {
    "duration": 1109,
    "start_time": "2021-11-15T12:14:00.774Z"
   },
   {
    "duration": 1099,
    "start_time": "2021-11-15T12:14:00.785Z"
   },
   {
    "duration": 1094,
    "start_time": "2021-11-15T12:14:00.791Z"
   },
   {
    "duration": 1090,
    "start_time": "2021-11-15T12:14:00.796Z"
   },
   {
    "duration": 1086,
    "start_time": "2021-11-15T12:14:00.801Z"
   },
   {
    "duration": 1082,
    "start_time": "2021-11-15T12:14:00.806Z"
   },
   {
    "duration": 1078,
    "start_time": "2021-11-15T12:14:00.811Z"
   },
   {
    "duration": 1074,
    "start_time": "2021-11-15T12:14:00.816Z"
   },
   {
    "duration": 1063,
    "start_time": "2021-11-15T12:14:00.828Z"
   },
   {
    "duration": 1060,
    "start_time": "2021-11-15T12:14:00.832Z"
   },
   {
    "duration": 1053,
    "start_time": "2021-11-15T12:14:00.840Z"
   },
   {
    "duration": 1032,
    "start_time": "2021-11-15T12:14:00.862Z"
   },
   {
    "duration": 1024,
    "start_time": "2021-11-15T12:14:00.871Z"
   },
   {
    "duration": 1019,
    "start_time": "2021-11-15T12:14:00.877Z"
   },
   {
    "duration": 985,
    "start_time": "2021-11-15T12:14:00.912Z"
   },
   {
    "duration": 981,
    "start_time": "2021-11-15T12:14:00.917Z"
   },
   {
    "duration": 977,
    "start_time": "2021-11-15T12:14:00.922Z"
   },
   {
    "duration": 974,
    "start_time": "2021-11-15T12:14:00.926Z"
   },
   {
    "duration": 969,
    "start_time": "2021-11-15T12:14:00.932Z"
   },
   {
    "duration": 966,
    "start_time": "2021-11-15T12:14:00.936Z"
   },
   {
    "duration": 963,
    "start_time": "2021-11-15T12:14:00.940Z"
   },
   {
    "duration": 959,
    "start_time": "2021-11-15T12:14:00.945Z"
   },
   {
    "duration": 956,
    "start_time": "2021-11-15T12:14:00.949Z"
   },
   {
    "duration": 952,
    "start_time": "2021-11-15T12:14:00.954Z"
   },
   {
    "duration": 949,
    "start_time": "2021-11-15T12:14:00.958Z"
   },
   {
    "duration": 5059,
    "start_time": "2021-11-15T12:17:37.462Z"
   },
   {
    "duration": 83,
    "start_time": "2021-11-15T12:18:40.903Z"
   },
   {
    "duration": 147,
    "start_time": "2021-11-15T12:18:43.879Z"
   },
   {
    "duration": 173,
    "start_time": "2021-11-15T12:18:47.991Z"
   },
   {
    "duration": 7,
    "start_time": "2021-11-15T12:18:50.057Z"
   },
   {
    "duration": 30,
    "start_time": "2021-11-15T12:18:53.192Z"
   },
   {
    "duration": 7,
    "start_time": "2021-11-15T12:18:56.271Z"
   },
   {
    "duration": 6547,
    "start_time": "2021-11-15T12:18:57.772Z"
   },
   {
    "duration": 4,
    "start_time": "2021-11-15T12:19:33.514Z"
   },
   {
    "duration": 4,
    "start_time": "2021-11-15T12:19:35.407Z"
   },
   {
    "duration": 28527,
    "start_time": "2021-11-15T12:19:38.386Z"
   },
   {
    "duration": 61,
    "start_time": "2021-11-15T12:20:40.596Z"
   },
   {
    "duration": 42980,
    "start_time": "2021-11-15T12:20:48.145Z"
   },
   {
    "duration": 4,
    "start_time": "2021-11-15T12:21:44.024Z"
   },
   {
    "duration": 37,
    "start_time": "2021-11-15T12:21:46.844Z"
   },
   {
    "duration": 3044,
    "start_time": "2021-11-15T12:21:51.942Z"
   },
   {
    "duration": 143,
    "start_time": "2021-11-15T12:21:58.735Z"
   },
   {
    "duration": 12212,
    "start_time": "2021-11-15T12:22:02.785Z"
   },
   {
    "duration": 18,
    "start_time": "2021-11-15T12:22:17.325Z"
   },
   {
    "duration": 3,
    "start_time": "2021-11-15T12:22:20.094Z"
   },
   {
    "duration": 115232,
    "start_time": "2021-11-15T12:22:22.176Z"
   },
   {
    "duration": 317,
    "start_time": "2021-11-15T12:28:06.416Z"
   },
   {
    "duration": 63,
    "start_time": "2021-11-15T12:28:09.321Z"
   },
   {
    "duration": 3,
    "start_time": "2021-11-15T12:28:17.557Z"
   },
   {
    "duration": 466067,
    "start_time": "2021-11-15T12:28:20.763Z"
   },
   {
    "duration": 395,
    "start_time": "2021-11-15T12:36:14.434Z"
   },
   {
    "duration": 3,
    "start_time": "2021-11-15T12:36:17.374Z"
   },
   {
    "duration": 15708,
    "start_time": "2021-11-15T12:36:19.534Z"
   },
   {
    "duration": 38,
    "start_time": "2021-11-15T12:38:09.033Z"
   },
   {
    "duration": 9,
    "start_time": "2021-11-15T12:38:10.844Z"
   },
   {
    "duration": 7248,
    "start_time": "2021-11-16T12:19:24.841Z"
   },
   {
    "duration": 13211,
    "start_time": "2021-11-16T12:19:32.092Z"
   },
   {
    "duration": 6,
    "start_time": "2021-11-16T12:19:45.306Z"
   },
   {
    "duration": 11,
    "start_time": "2021-11-16T12:19:45.314Z"
   },
   {
    "duration": 3174,
    "start_time": "2021-11-16T12:19:45.327Z"
   },
   {
    "duration": 7204,
    "start_time": "2021-11-16T12:19:48.504Z"
   },
   {
    "duration": 8389,
    "start_time": "2021-11-16T13:18:16.833Z"
   },
   {
    "duration": 821,
    "start_time": "2021-11-16T13:18:25.225Z"
   },
   {
    "duration": 8,
    "start_time": "2021-11-16T13:18:26.049Z"
   },
   {
    "duration": 8,
    "start_time": "2021-11-16T13:18:26.060Z"
   },
   {
    "duration": 2530,
    "start_time": "2021-11-16T13:18:26.070Z"
   },
   {
    "duration": 10346,
    "start_time": "2021-11-16T13:18:28.603Z"
   },
   {
    "duration": 3185965,
    "start_time": "2021-11-16T13:18:38.952Z"
   },
   {
    "duration": 13821,
    "start_time": "2021-11-16T14:11:44.921Z"
   },
   {
    "duration": 14,
    "start_time": "2021-11-16T14:11:58.748Z"
   },
   {
    "duration": 1689,
    "start_time": "2021-11-16T14:11:58.765Z"
   },
   {
    "duration": 318,
    "start_time": "2021-11-16T14:12:00.456Z"
   },
   {
    "duration": 234,
    "start_time": "2021-11-16T14:12:00.776Z"
   },
   {
    "duration": 7,
    "start_time": "2021-11-16T14:12:01.013Z"
   },
   {
    "duration": 50,
    "start_time": "2021-11-16T14:12:01.023Z"
   },
   {
    "duration": 28,
    "start_time": "2021-11-16T14:12:01.075Z"
   },
   {
    "duration": 11640,
    "start_time": "2021-11-16T14:12:01.106Z"
   },
   {
    "duration": 6,
    "start_time": "2021-11-16T14:12:12.749Z"
   },
   {
    "duration": 5,
    "start_time": "2021-11-16T14:12:12.758Z"
   },
   {
    "duration": 46499,
    "start_time": "2021-11-16T14:12:12.766Z"
   },
   {
    "duration": 64082,
    "start_time": "2021-11-16T14:12:59.268Z"
   },
   {
    "duration": 6,
    "start_time": "2021-11-16T14:14:03.353Z"
   },
   {
    "duration": 69,
    "start_time": "2021-11-16T14:14:03.362Z"
   },
   {
    "duration": 5506,
    "start_time": "2021-11-16T14:14:03.436Z"
   },
   {
    "duration": 269,
    "start_time": "2021-11-16T14:14:08.945Z"
   },
   {
    "duration": 18184,
    "start_time": "2021-11-16T14:14:09.218Z"
   },
   {
    "duration": 20,
    "start_time": "2021-11-16T14:14:27.405Z"
   },
   {
    "duration": 4,
    "start_time": "2021-11-16T14:14:27.428Z"
   },
   {
    "duration": 1451481,
    "start_time": "2021-11-16T14:14:27.434Z"
   },
   {
    "duration": 710,
    "start_time": "2021-11-16T14:38:38.918Z"
   },
   {
    "duration": 73,
    "start_time": "2021-11-16T14:38:39.631Z"
   },
   {
    "duration": 574771,
    "start_time": "2021-11-16T14:38:39.707Z"
   },
   {
    "duration": 633,
    "start_time": "2021-11-16T14:48:14.481Z"
   },
   {
    "duration": 4,
    "start_time": "2021-11-16T14:48:15.117Z"
   },
   {
    "duration": 28933,
    "start_time": "2021-11-16T14:48:15.123Z"
   },
   {
    "duration": 44,
    "start_time": "2021-11-16T14:48:44.059Z"
   },
   {
    "duration": 11,
    "start_time": "2021-11-16T14:48:44.105Z"
   },
   {
    "duration": 8315,
    "start_time": "2021-11-16T16:11:05.519Z"
   },
   {
    "duration": 954,
    "start_time": "2021-11-16T16:11:13.837Z"
   },
   {
    "duration": 6,
    "start_time": "2021-11-16T16:11:14.795Z"
   },
   {
    "duration": 13,
    "start_time": "2021-11-16T16:11:14.803Z"
   },
   {
    "duration": 2272,
    "start_time": "2021-11-16T16:11:14.818Z"
   },
   {
    "duration": 7154,
    "start_time": "2021-11-16T16:11:17.092Z"
   },
   {
    "duration": 3056018,
    "start_time": "2021-11-16T16:11:24.249Z"
   },
   {
    "duration": 12337,
    "start_time": "2021-11-16T17:02:20.271Z"
   },
   {
    "duration": 6,
    "start_time": "2021-11-16T17:02:32.611Z"
   },
   {
    "duration": 1481,
    "start_time": "2021-11-16T17:02:32.620Z"
   },
   {
    "duration": 387,
    "start_time": "2021-11-16T17:02:34.103Z"
   },
   {
    "duration": 243,
    "start_time": "2021-11-16T17:02:34.500Z"
   },
   {
    "duration": 8,
    "start_time": "2021-11-16T17:02:34.745Z"
   },
   {
    "duration": 65,
    "start_time": "2021-11-16T17:02:34.755Z"
   },
   {
    "duration": 7,
    "start_time": "2021-11-16T17:02:34.823Z"
   },
   {
    "duration": 11260,
    "start_time": "2021-11-16T17:02:34.832Z"
   },
   {
    "duration": 9,
    "start_time": "2021-11-16T17:02:46.095Z"
   },
   {
    "duration": 8,
    "start_time": "2021-11-16T17:02:46.107Z"
   },
   {
    "duration": 38355,
    "start_time": "2021-11-16T17:02:46.117Z"
   },
   {
    "duration": 56180,
    "start_time": "2021-11-16T17:03:24.475Z"
   },
   {
    "duration": 6,
    "start_time": "2021-11-16T17:04:20.658Z"
   },
   {
    "duration": 71,
    "start_time": "2021-11-16T17:04:20.667Z"
   },
   {
    "duration": 5346,
    "start_time": "2021-11-16T17:04:20.743Z"
   },
   {
    "duration": 373,
    "start_time": "2021-11-16T17:04:26.092Z"
   },
   {
    "duration": 20739,
    "start_time": "2021-11-16T17:04:26.469Z"
   },
   {
    "duration": 18,
    "start_time": "2021-11-16T17:04:47.211Z"
   },
   {
    "duration": 12,
    "start_time": "2021-11-16T17:04:47.232Z"
   },
   {
    "duration": 330166,
    "start_time": "2021-11-16T17:04:47.247Z"
   },
   {
    "duration": 706,
    "start_time": "2021-11-16T17:10:17.415Z"
   },
   {
    "duration": 5,
    "start_time": "2021-11-16T17:10:18.123Z"
   },
   {
    "duration": 13358,
    "start_time": "2021-11-16T17:22:26.007Z"
   },
   {
    "duration": 1085,
    "start_time": "2021-11-16T17:22:39.368Z"
   },
   {
    "duration": 5,
    "start_time": "2021-11-16T17:22:40.457Z"
   },
   {
    "duration": 11,
    "start_time": "2021-11-16T17:22:40.465Z"
   },
   {
    "duration": 2599,
    "start_time": "2021-11-16T17:22:40.478Z"
   },
   {
    "duration": 6575,
    "start_time": "2021-11-16T17:22:43.080Z"
   },
   {
    "duration": 3082361,
    "start_time": "2021-11-16T17:22:49.658Z"
   },
   {
    "duration": 11864,
    "start_time": "2021-11-16T18:14:12.022Z"
   },
   {
    "duration": 6,
    "start_time": "2021-11-16T18:14:23.889Z"
   },
   {
    "duration": 1086,
    "start_time": "2021-11-16T18:14:23.898Z"
   },
   {
    "duration": 859,
    "start_time": "2021-11-16T18:14:24.987Z"
   },
   {
    "duration": 266,
    "start_time": "2021-11-16T18:14:25.849Z"
   },
   {
    "duration": 7,
    "start_time": "2021-11-16T18:14:26.118Z"
   },
   {
    "duration": 52,
    "start_time": "2021-11-16T18:14:26.127Z"
   },
   {
    "duration": 7,
    "start_time": "2021-11-16T18:14:26.182Z"
   },
   {
    "duration": 11991,
    "start_time": "2021-11-16T18:14:26.191Z"
   },
   {
    "duration": 17,
    "start_time": "2021-11-16T18:14:38.184Z"
   },
   {
    "duration": 4,
    "start_time": "2021-11-16T18:14:38.204Z"
   },
   {
    "duration": 38148,
    "start_time": "2021-11-16T18:14:38.210Z"
   },
   {
    "duration": 64393,
    "start_time": "2021-11-16T18:15:16.361Z"
   },
   {
    "duration": 6,
    "start_time": "2021-11-16T18:16:20.756Z"
   },
   {
    "duration": 73,
    "start_time": "2021-11-16T18:16:20.764Z"
   },
   {
    "duration": 6120,
    "start_time": "2021-11-16T18:16:20.842Z"
   },
   {
    "duration": 320,
    "start_time": "2021-11-16T18:16:26.965Z"
   },
   {
    "duration": 20616,
    "start_time": "2021-11-16T18:16:27.288Z"
   },
   {
    "duration": 18,
    "start_time": "2021-11-16T18:16:47.907Z"
   },
   {
    "duration": 4,
    "start_time": "2021-11-16T18:16:47.928Z"
   },
   {
    "duration": 521790,
    "start_time": "2021-11-16T18:16:47.935Z"
   },
   {
    "duration": 794,
    "start_time": "2021-11-16T18:25:29.728Z"
   },
   {
    "duration": 4,
    "start_time": "2021-11-16T18:25:30.525Z"
   },
   {
    "duration": 133,
    "start_time": "2021-11-16T19:11:15.888Z"
   },
   {
    "duration": 8200,
    "start_time": "2021-11-16T19:50:43.739Z"
   },
   {
    "duration": 879,
    "start_time": "2021-11-16T19:50:51.942Z"
   },
   {
    "duration": 6,
    "start_time": "2021-11-16T19:50:52.823Z"
   },
   {
    "duration": 6,
    "start_time": "2021-11-16T19:50:52.832Z"
   },
   {
    "duration": 2688,
    "start_time": "2021-11-16T19:50:52.841Z"
   },
   {
    "duration": 6408,
    "start_time": "2021-11-16T19:50:55.532Z"
   },
   {
    "duration": 3023522,
    "start_time": "2021-11-16T19:51:01.942Z"
   },
   {
    "duration": 12337,
    "start_time": "2021-11-16T20:41:25.468Z"
   },
   {
    "duration": 14,
    "start_time": "2021-11-16T20:41:37.808Z"
   },
   {
    "duration": 310,
    "start_time": "2021-11-16T20:41:37.824Z"
   },
   {
    "duration": 273,
    "start_time": "2021-11-16T20:41:38.136Z"
   },
   {
    "duration": 238,
    "start_time": "2021-11-16T20:41:38.411Z"
   },
   {
    "duration": 7,
    "start_time": "2021-11-16T20:41:38.652Z"
   },
   {
    "duration": 56,
    "start_time": "2021-11-16T20:41:38.661Z"
   },
   {
    "duration": 6,
    "start_time": "2021-11-16T20:41:38.720Z"
   },
   {
    "duration": 11126,
    "start_time": "2021-11-16T20:41:38.729Z"
   },
   {
    "duration": 6,
    "start_time": "2021-11-16T20:41:49.858Z"
   },
   {
    "duration": 7,
    "start_time": "2021-11-16T20:41:49.866Z"
   },
   {
    "duration": 38183,
    "start_time": "2021-11-16T20:41:49.876Z"
   },
   {
    "duration": 59793,
    "start_time": "2021-11-16T20:42:28.061Z"
   },
   {
    "duration": 5,
    "start_time": "2021-11-16T20:43:27.857Z"
   },
   {
    "duration": 75,
    "start_time": "2021-11-16T20:43:27.865Z"
   },
   {
    "duration": 5343,
    "start_time": "2021-11-16T20:43:27.945Z"
   },
   {
    "duration": 261,
    "start_time": "2021-11-16T20:43:33.292Z"
   },
   {
    "duration": 18353,
    "start_time": "2021-11-16T20:43:33.556Z"
   },
   {
    "duration": 18,
    "start_time": "2021-11-16T20:43:51.911Z"
   },
   {
    "duration": 3,
    "start_time": "2021-11-16T20:43:51.932Z"
   },
   {
    "duration": 295679,
    "start_time": "2021-11-16T20:43:51.937Z"
   },
   {
    "duration": 734,
    "start_time": "2021-11-16T20:48:47.618Z"
   },
   {
    "duration": 3,
    "start_time": "2021-11-16T20:48:48.355Z"
   },
   {
    "duration": 569843,
    "start_time": "2021-11-16T20:48:48.402Z"
   },
   {
    "duration": 695,
    "start_time": "2021-11-16T20:58:18.248Z"
   },
   {
    "duration": 4,
    "start_time": "2021-11-16T20:58:18.945Z"
   },
   {
    "duration": 29276,
    "start_time": "2021-11-16T20:58:18.952Z"
   },
   {
    "duration": 39,
    "start_time": "2021-11-16T20:58:48.231Z"
   },
   {
    "duration": 30,
    "start_time": "2021-11-16T20:58:48.272Z"
   },
   {
    "duration": 7389,
    "start_time": "2021-11-17T19:31:12.528Z"
   },
   {
    "duration": 3311,
    "start_time": "2021-11-17T19:31:19.919Z"
   },
   {
    "duration": 3,
    "start_time": "2021-11-17T19:31:23.232Z"
   },
   {
    "duration": 11,
    "start_time": "2021-11-17T19:31:23.237Z"
   },
   {
    "duration": 1592,
    "start_time": "2021-11-17T19:31:23.249Z"
   },
   {
    "duration": 3517,
    "start_time": "2021-11-17T19:31:24.842Z"
   },
   {
    "duration": 1766200,
    "start_time": "2021-11-17T19:31:28.360Z"
   },
   {
    "duration": 7988,
    "start_time": "2021-11-17T20:00:54.562Z"
   },
   {
    "duration": 7,
    "start_time": "2021-11-17T20:01:02.552Z"
   },
   {
    "duration": 4832,
    "start_time": "2021-11-17T20:01:02.560Z"
   },
   {
    "duration": 1165,
    "start_time": "2021-11-17T20:01:07.394Z"
   },
   {
    "duration": 180,
    "start_time": "2021-11-17T20:01:08.560Z"
   },
   {
    "duration": 5,
    "start_time": "2021-11-17T20:01:08.741Z"
   },
   {
    "duration": 28,
    "start_time": "2021-11-17T20:01:08.747Z"
   },
   {
    "duration": 21,
    "start_time": "2021-11-17T20:01:08.776Z"
   },
   {
    "duration": 6553,
    "start_time": "2021-11-17T20:01:08.800Z"
   },
   {
    "duration": 4,
    "start_time": "2021-11-17T20:01:15.354Z"
   },
   {
    "duration": 9,
    "start_time": "2021-11-17T20:01:15.359Z"
   },
   {
    "duration": 27542,
    "start_time": "2021-11-17T20:01:15.369Z"
   },
   {
    "duration": 42305,
    "start_time": "2021-11-17T20:01:42.913Z"
   },
   {
    "duration": 4,
    "start_time": "2021-11-17T20:02:25.220Z"
   },
   {
    "duration": 38,
    "start_time": "2021-11-17T20:02:25.226Z"
   },
   {
    "duration": 3248,
    "start_time": "2021-11-17T20:02:25.268Z"
   },
   {
    "duration": 154,
    "start_time": "2021-11-17T20:02:28.518Z"
   },
   {
    "duration": 17918,
    "start_time": "2021-11-17T20:02:28.674Z"
   },
   {
    "duration": 18,
    "start_time": "2021-11-17T20:02:46.594Z"
   },
   {
    "duration": 5,
    "start_time": "2021-11-17T20:02:46.614Z"
   },
   {
    "duration": 492201,
    "start_time": "2021-11-17T20:02:46.621Z"
   },
   {
    "duration": 482,
    "start_time": "2021-11-17T20:10:58.823Z"
   },
   {
    "duration": 2,
    "start_time": "2021-11-17T20:10:59.307Z"
   },
   {
    "duration": 404219,
    "start_time": "2021-11-17T20:10:59.310Z"
   },
   {
    "duration": 367,
    "start_time": "2021-11-17T20:17:43.531Z"
   },
   {
    "duration": 3,
    "start_time": "2021-11-17T20:17:43.900Z"
   },
   {
    "duration": 14984,
    "start_time": "2021-11-17T20:17:43.904Z"
   },
   {
    "duration": 25,
    "start_time": "2021-11-17T20:17:58.889Z"
   },
   {
    "duration": 7,
    "start_time": "2021-11-17T20:17:58.915Z"
   }
  ],
  "colab": {
   "collapsed_sections": [],
   "name": "Untitled0.ipynb",
   "provenance": []
  },
  "kernelspec": {
   "display_name": "Python 3 (ipykernel)",
   "language": "python",
   "name": "python3"
  },
  "language_info": {
   "codemirror_mode": {
    "name": "ipython",
    "version": 3
   },
   "file_extension": ".py",
   "mimetype": "text/x-python",
   "name": "python",
   "nbconvert_exporter": "python",
   "pygments_lexer": "ipython3",
   "version": "3.9.5"
  },
  "toc": {
   "base_numbering": 1,
   "nav_menu": {},
   "number_sections": true,
   "sideBar": true,
   "skip_h1_title": true,
   "title_cell": "Table of Contents",
   "title_sidebar": "Contents",
   "toc_cell": false,
   "toc_position": {},
   "toc_section_display": true,
   "toc_window_display": false
  }
 },
 "nbformat": 4,
 "nbformat_minor": 1
}
